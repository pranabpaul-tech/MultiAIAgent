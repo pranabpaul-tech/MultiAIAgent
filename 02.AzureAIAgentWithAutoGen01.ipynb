{
 "cells": [
  {
   "cell_type": "code",
   "execution_count": 1,
   "metadata": {},
   "outputs": [
    {
     "name": "stdout",
     "output_type": "stream",
     "text": [
      "Defaulting to user installation because normal site-packages is not writeable\n",
      "Requirement already satisfied: autogen-ext[openai] in c:\\users\\pranabp\\appdata\\local\\packages\\pythonsoftwarefoundation.python.3.12_qbz5n2kfra8p0\\localcache\\local-packages\\python312\\site-packages (0.4.9.3)\n",
      "Requirement already satisfied: autogen-core==0.4.9.3 in c:\\users\\pranabp\\appdata\\local\\packages\\pythonsoftwarefoundation.python.3.12_qbz5n2kfra8p0\\localcache\\local-packages\\python312\\site-packages (from autogen-ext[openai]) (0.4.9.3)\n",
      "Requirement already satisfied: aiofiles in c:\\users\\pranabp\\appdata\\local\\packages\\pythonsoftwarefoundation.python.3.12_qbz5n2kfra8p0\\localcache\\local-packages\\python312\\site-packages (from autogen-ext[openai]) (24.1.0)\n",
      "Requirement already satisfied: openai>=1.52.2 in c:\\users\\pranabp\\appdata\\local\\packages\\pythonsoftwarefoundation.python.3.12_qbz5n2kfra8p0\\localcache\\local-packages\\python312\\site-packages (from autogen-ext[openai]) (1.70.0)\n",
      "Requirement already satisfied: tiktoken>=0.8.0 in c:\\users\\pranabp\\appdata\\local\\packages\\pythonsoftwarefoundation.python.3.12_qbz5n2kfra8p0\\localcache\\local-packages\\python312\\site-packages (from autogen-ext[openai]) (0.9.0)\n",
      "Requirement already satisfied: jsonref~=1.1.0 in c:\\users\\pranabp\\appdata\\local\\packages\\pythonsoftwarefoundation.python.3.12_qbz5n2kfra8p0\\localcache\\local-packages\\python312\\site-packages (from autogen-core==0.4.9.3->autogen-ext[openai]) (1.1.0)\n",
      "Requirement already satisfied: opentelemetry-api>=1.27.0 in c:\\users\\pranabp\\appdata\\local\\packages\\pythonsoftwarefoundation.python.3.12_qbz5n2kfra8p0\\localcache\\local-packages\\python312\\site-packages (from autogen-core==0.4.9.3->autogen-ext[openai]) (1.31.1)\n",
      "Requirement already satisfied: pillow>=11.0.0 in c:\\users\\pranabp\\appdata\\local\\packages\\pythonsoftwarefoundation.python.3.12_qbz5n2kfra8p0\\localcache\\local-packages\\python312\\site-packages (from autogen-core==0.4.9.3->autogen-ext[openai]) (11.1.0)\n",
      "Requirement already satisfied: protobuf~=5.29.3 in c:\\users\\pranabp\\appdata\\local\\packages\\pythonsoftwarefoundation.python.3.12_qbz5n2kfra8p0\\localcache\\local-packages\\python312\\site-packages (from autogen-core==0.4.9.3->autogen-ext[openai]) (5.29.4)\n",
      "Requirement already satisfied: pydantic<3.0.0,>=2.10.0 in c:\\users\\pranabp\\appdata\\local\\packages\\pythonsoftwarefoundation.python.3.12_qbz5n2kfra8p0\\localcache\\local-packages\\python312\\site-packages (from autogen-core==0.4.9.3->autogen-ext[openai]) (2.11.1)\n",
      "Requirement already satisfied: typing-extensions>=4.0.0 in c:\\users\\pranabp\\appdata\\local\\packages\\pythonsoftwarefoundation.python.3.12_qbz5n2kfra8p0\\localcache\\local-packages\\python312\\site-packages (from autogen-core==0.4.9.3->autogen-ext[openai]) (4.13.0)\n",
      "Requirement already satisfied: anyio<5,>=3.5.0 in c:\\users\\pranabp\\appdata\\local\\packages\\pythonsoftwarefoundation.python.3.12_qbz5n2kfra8p0\\localcache\\local-packages\\python312\\site-packages (from openai>=1.52.2->autogen-ext[openai]) (4.3.0)\n",
      "Requirement already satisfied: distro<2,>=1.7.0 in c:\\users\\pranabp\\appdata\\local\\packages\\pythonsoftwarefoundation.python.3.12_qbz5n2kfra8p0\\localcache\\local-packages\\python312\\site-packages (from openai>=1.52.2->autogen-ext[openai]) (1.9.0)\n",
      "Requirement already satisfied: httpx<1,>=0.23.0 in c:\\users\\pranabp\\appdata\\local\\packages\\pythonsoftwarefoundation.python.3.12_qbz5n2kfra8p0\\localcache\\local-packages\\python312\\site-packages (from openai>=1.52.2->autogen-ext[openai]) (0.27.0)\n",
      "Requirement already satisfied: jiter<1,>=0.4.0 in c:\\users\\pranabp\\appdata\\local\\packages\\pythonsoftwarefoundation.python.3.12_qbz5n2kfra8p0\\localcache\\local-packages\\python312\\site-packages (from openai>=1.52.2->autogen-ext[openai]) (0.9.0)\n",
      "Requirement already satisfied: sniffio in c:\\users\\pranabp\\appdata\\local\\packages\\pythonsoftwarefoundation.python.3.12_qbz5n2kfra8p0\\localcache\\local-packages\\python312\\site-packages (from openai>=1.52.2->autogen-ext[openai]) (1.3.1)\n",
      "Requirement already satisfied: tqdm>4 in c:\\users\\pranabp\\appdata\\local\\packages\\pythonsoftwarefoundation.python.3.12_qbz5n2kfra8p0\\localcache\\local-packages\\python312\\site-packages (from openai>=1.52.2->autogen-ext[openai]) (4.66.2)\n",
      "Requirement already satisfied: regex>=2022.1.18 in c:\\users\\pranabp\\appdata\\local\\packages\\pythonsoftwarefoundation.python.3.12_qbz5n2kfra8p0\\localcache\\local-packages\\python312\\site-packages (from tiktoken>=0.8.0->autogen-ext[openai]) (2023.12.25)\n",
      "Requirement already satisfied: requests>=2.26.0 in c:\\users\\pranabp\\appdata\\local\\packages\\pythonsoftwarefoundation.python.3.12_qbz5n2kfra8p0\\localcache\\local-packages\\python312\\site-packages (from tiktoken>=0.8.0->autogen-ext[openai]) (2.31.0)\n",
      "Requirement already satisfied: idna>=2.8 in c:\\users\\pranabp\\appdata\\local\\packages\\pythonsoftwarefoundation.python.3.12_qbz5n2kfra8p0\\localcache\\local-packages\\python312\\site-packages (from anyio<5,>=3.5.0->openai>=1.52.2->autogen-ext[openai]) (3.6)\n",
      "Requirement already satisfied: certifi in c:\\users\\pranabp\\appdata\\local\\packages\\pythonsoftwarefoundation.python.3.12_qbz5n2kfra8p0\\localcache\\local-packages\\python312\\site-packages (from httpx<1,>=0.23.0->openai>=1.52.2->autogen-ext[openai]) (2024.2.2)\n",
      "Requirement already satisfied: httpcore==1.* in c:\\users\\pranabp\\appdata\\local\\packages\\pythonsoftwarefoundation.python.3.12_qbz5n2kfra8p0\\localcache\\local-packages\\python312\\site-packages (from httpx<1,>=0.23.0->openai>=1.52.2->autogen-ext[openai]) (1.0.5)\n",
      "Requirement already satisfied: h11<0.15,>=0.13 in c:\\users\\pranabp\\appdata\\local\\packages\\pythonsoftwarefoundation.python.3.12_qbz5n2kfra8p0\\localcache\\local-packages\\python312\\site-packages (from httpcore==1.*->httpx<1,>=0.23.0->openai>=1.52.2->autogen-ext[openai]) (0.14.0)\n",
      "Requirement already satisfied: deprecated>=1.2.6 in c:\\users\\pranabp\\appdata\\local\\packages\\pythonsoftwarefoundation.python.3.12_qbz5n2kfra8p0\\localcache\\local-packages\\python312\\site-packages (from opentelemetry-api>=1.27.0->autogen-core==0.4.9.3->autogen-ext[openai]) (1.2.18)\n",
      "Requirement already satisfied: importlib-metadata<8.7.0,>=6.0 in c:\\users\\pranabp\\appdata\\local\\packages\\pythonsoftwarefoundation.python.3.12_qbz5n2kfra8p0\\localcache\\local-packages\\python312\\site-packages (from opentelemetry-api>=1.27.0->autogen-core==0.4.9.3->autogen-ext[openai]) (8.6.1)\n",
      "Requirement already satisfied: annotated-types>=0.6.0 in c:\\users\\pranabp\\appdata\\local\\packages\\pythonsoftwarefoundation.python.3.12_qbz5n2kfra8p0\\localcache\\local-packages\\python312\\site-packages (from pydantic<3.0.0,>=2.10.0->autogen-core==0.4.9.3->autogen-ext[openai]) (0.6.0)\n",
      "Requirement already satisfied: pydantic-core==2.33.0 in c:\\users\\pranabp\\appdata\\local\\packages\\pythonsoftwarefoundation.python.3.12_qbz5n2kfra8p0\\localcache\\local-packages\\python312\\site-packages (from pydantic<3.0.0,>=2.10.0->autogen-core==0.4.9.3->autogen-ext[openai]) (2.33.0)\n",
      "Requirement already satisfied: typing-inspection>=0.4.0 in c:\\users\\pranabp\\appdata\\local\\packages\\pythonsoftwarefoundation.python.3.12_qbz5n2kfra8p0\\localcache\\local-packages\\python312\\site-packages (from pydantic<3.0.0,>=2.10.0->autogen-core==0.4.9.3->autogen-ext[openai]) (0.4.0)\n",
      "Requirement already satisfied: charset-normalizer<4,>=2 in c:\\users\\pranabp\\appdata\\local\\packages\\pythonsoftwarefoundation.python.3.12_qbz5n2kfra8p0\\localcache\\local-packages\\python312\\site-packages (from requests>=2.26.0->tiktoken>=0.8.0->autogen-ext[openai]) (3.3.2)\n",
      "Requirement already satisfied: urllib3<3,>=1.21.1 in c:\\users\\pranabp\\appdata\\local\\packages\\pythonsoftwarefoundation.python.3.12_qbz5n2kfra8p0\\localcache\\local-packages\\python312\\site-packages (from requests>=2.26.0->tiktoken>=0.8.0->autogen-ext[openai]) (2.2.1)\n",
      "Requirement already satisfied: colorama in c:\\users\\pranabp\\appdata\\local\\packages\\pythonsoftwarefoundation.python.3.12_qbz5n2kfra8p0\\localcache\\local-packages\\python312\\site-packages (from tqdm>4->openai>=1.52.2->autogen-ext[openai]) (0.4.6)\n",
      "Requirement already satisfied: wrapt<2,>=1.10 in c:\\users\\pranabp\\appdata\\local\\packages\\pythonsoftwarefoundation.python.3.12_qbz5n2kfra8p0\\localcache\\local-packages\\python312\\site-packages (from deprecated>=1.2.6->opentelemetry-api>=1.27.0->autogen-core==0.4.9.3->autogen-ext[openai]) (1.16.0)\n",
      "Requirement already satisfied: zipp>=3.20 in c:\\users\\pranabp\\appdata\\local\\packages\\pythonsoftwarefoundation.python.3.12_qbz5n2kfra8p0\\localcache\\local-packages\\python312\\site-packages (from importlib-metadata<8.7.0,>=6.0->opentelemetry-api>=1.27.0->autogen-core==0.4.9.3->autogen-ext[openai]) (3.21.0)\n"
     ]
    },
    {
     "name": "stderr",
     "output_type": "stream",
     "text": [
      "\n",
      "[notice] A new release of pip is available: 24.3.1 -> 25.0.1\n",
      "[notice] To update, run: C:\\Users\\pranabp\\AppData\\Local\\Microsoft\\WindowsApps\\PythonSoftwareFoundation.Python.3.12_qbz5n2kfra8p0\\python.exe -m pip install --upgrade pip\n"
     ]
    },
    {
     "name": "stdout",
     "output_type": "stream",
     "text": [
      "Defaulting to user installation because normal site-packages is not writeable\n",
      "Requirement already satisfied: autogen-agentchat in c:\\users\\pranabp\\appdata\\local\\packages\\pythonsoftwarefoundation.python.3.12_qbz5n2kfra8p0\\localcache\\local-packages\\python312\\site-packages (0.4.9.3)\n",
      "Requirement already satisfied: autogen-core==0.4.9.3 in c:\\users\\pranabp\\appdata\\local\\packages\\pythonsoftwarefoundation.python.3.12_qbz5n2kfra8p0\\localcache\\local-packages\\python312\\site-packages (from autogen-agentchat) (0.4.9.3)\n",
      "Requirement already satisfied: jsonref~=1.1.0 in c:\\users\\pranabp\\appdata\\local\\packages\\pythonsoftwarefoundation.python.3.12_qbz5n2kfra8p0\\localcache\\local-packages\\python312\\site-packages (from autogen-core==0.4.9.3->autogen-agentchat) (1.1.0)\n",
      "Requirement already satisfied: opentelemetry-api>=1.27.0 in c:\\users\\pranabp\\appdata\\local\\packages\\pythonsoftwarefoundation.python.3.12_qbz5n2kfra8p0\\localcache\\local-packages\\python312\\site-packages (from autogen-core==0.4.9.3->autogen-agentchat) (1.31.1)\n",
      "Requirement already satisfied: pillow>=11.0.0 in c:\\users\\pranabp\\appdata\\local\\packages\\pythonsoftwarefoundation.python.3.12_qbz5n2kfra8p0\\localcache\\local-packages\\python312\\site-packages (from autogen-core==0.4.9.3->autogen-agentchat) (11.1.0)\n",
      "Requirement already satisfied: protobuf~=5.29.3 in c:\\users\\pranabp\\appdata\\local\\packages\\pythonsoftwarefoundation.python.3.12_qbz5n2kfra8p0\\localcache\\local-packages\\python312\\site-packages (from autogen-core==0.4.9.3->autogen-agentchat) (5.29.4)\n",
      "Requirement already satisfied: pydantic<3.0.0,>=2.10.0 in c:\\users\\pranabp\\appdata\\local\\packages\\pythonsoftwarefoundation.python.3.12_qbz5n2kfra8p0\\localcache\\local-packages\\python312\\site-packages (from autogen-core==0.4.9.3->autogen-agentchat) (2.11.1)\n",
      "Requirement already satisfied: typing-extensions>=4.0.0 in c:\\users\\pranabp\\appdata\\local\\packages\\pythonsoftwarefoundation.python.3.12_qbz5n2kfra8p0\\localcache\\local-packages\\python312\\site-packages (from autogen-core==0.4.9.3->autogen-agentchat) (4.13.0)\n",
      "Requirement already satisfied: deprecated>=1.2.6 in c:\\users\\pranabp\\appdata\\local\\packages\\pythonsoftwarefoundation.python.3.12_qbz5n2kfra8p0\\localcache\\local-packages\\python312\\site-packages (from opentelemetry-api>=1.27.0->autogen-core==0.4.9.3->autogen-agentchat) (1.2.18)\n",
      "Requirement already satisfied: importlib-metadata<8.7.0,>=6.0 in c:\\users\\pranabp\\appdata\\local\\packages\\pythonsoftwarefoundation.python.3.12_qbz5n2kfra8p0\\localcache\\local-packages\\python312\\site-packages (from opentelemetry-api>=1.27.0->autogen-core==0.4.9.3->autogen-agentchat) (8.6.1)\n",
      "Requirement already satisfied: annotated-types>=0.6.0 in c:\\users\\pranabp\\appdata\\local\\packages\\pythonsoftwarefoundation.python.3.12_qbz5n2kfra8p0\\localcache\\local-packages\\python312\\site-packages (from pydantic<3.0.0,>=2.10.0->autogen-core==0.4.9.3->autogen-agentchat) (0.6.0)\n",
      "Requirement already satisfied: pydantic-core==2.33.0 in c:\\users\\pranabp\\appdata\\local\\packages\\pythonsoftwarefoundation.python.3.12_qbz5n2kfra8p0\\localcache\\local-packages\\python312\\site-packages (from pydantic<3.0.0,>=2.10.0->autogen-core==0.4.9.3->autogen-agentchat) (2.33.0)\n",
      "Requirement already satisfied: typing-inspection>=0.4.0 in c:\\users\\pranabp\\appdata\\local\\packages\\pythonsoftwarefoundation.python.3.12_qbz5n2kfra8p0\\localcache\\local-packages\\python312\\site-packages (from pydantic<3.0.0,>=2.10.0->autogen-core==0.4.9.3->autogen-agentchat) (0.4.0)\n",
      "Requirement already satisfied: wrapt<2,>=1.10 in c:\\users\\pranabp\\appdata\\local\\packages\\pythonsoftwarefoundation.python.3.12_qbz5n2kfra8p0\\localcache\\local-packages\\python312\\site-packages (from deprecated>=1.2.6->opentelemetry-api>=1.27.0->autogen-core==0.4.9.3->autogen-agentchat) (1.16.0)\n",
      "Requirement already satisfied: zipp>=3.20 in c:\\users\\pranabp\\appdata\\local\\packages\\pythonsoftwarefoundation.python.3.12_qbz5n2kfra8p0\\localcache\\local-packages\\python312\\site-packages (from importlib-metadata<8.7.0,>=6.0->opentelemetry-api>=1.27.0->autogen-core==0.4.9.3->autogen-agentchat) (3.21.0)\n"
     ]
    },
    {
     "name": "stderr",
     "output_type": "stream",
     "text": [
      "\n",
      "[notice] A new release of pip is available: 24.3.1 -> 25.0.1\n",
      "[notice] To update, run: C:\\Users\\pranabp\\AppData\\Local\\Microsoft\\WindowsApps\\PythonSoftwareFoundation.Python.3.12_qbz5n2kfra8p0\\python.exe -m pip install --upgrade pip\n"
     ]
    },
    {
     "name": "stdout",
     "output_type": "stream",
     "text": [
      "Defaulting to user installation because normal site-packages is not writeable\n",
      "Requirement already satisfied: azure-ai-projects in c:\\users\\pranabp\\appdata\\local\\packages\\pythonsoftwarefoundation.python.3.12_qbz5n2kfra8p0\\localcache\\local-packages\\python312\\site-packages (1.0.0b8)\n",
      "Requirement already satisfied: isodate>=0.6.1 in c:\\users\\pranabp\\appdata\\local\\packages\\pythonsoftwarefoundation.python.3.12_qbz5n2kfra8p0\\localcache\\local-packages\\python312\\site-packages (from azure-ai-projects) (0.6.1)\n",
      "Requirement already satisfied: azure-core>=1.30.0 in c:\\users\\pranabp\\appdata\\local\\packages\\pythonsoftwarefoundation.python.3.12_qbz5n2kfra8p0\\localcache\\local-packages\\python312\\site-packages (from azure-ai-projects) (1.32.0)\n",
      "Requirement already satisfied: typing-extensions>=4.12.2 in c:\\users\\pranabp\\appdata\\local\\packages\\pythonsoftwarefoundation.python.3.12_qbz5n2kfra8p0\\localcache\\local-packages\\python312\\site-packages (from azure-ai-projects) (4.13.0)\n",
      "Requirement already satisfied: requests>=2.21.0 in c:\\users\\pranabp\\appdata\\local\\packages\\pythonsoftwarefoundation.python.3.12_qbz5n2kfra8p0\\localcache\\local-packages\\python312\\site-packages (from azure-core>=1.30.0->azure-ai-projects) (2.31.0)\n",
      "Requirement already satisfied: six>=1.11.0 in c:\\users\\pranabp\\appdata\\local\\packages\\pythonsoftwarefoundation.python.3.12_qbz5n2kfra8p0\\localcache\\local-packages\\python312\\site-packages (from azure-core>=1.30.0->azure-ai-projects) (1.16.0)\n",
      "Requirement already satisfied: charset-normalizer<4,>=2 in c:\\users\\pranabp\\appdata\\local\\packages\\pythonsoftwarefoundation.python.3.12_qbz5n2kfra8p0\\localcache\\local-packages\\python312\\site-packages (from requests>=2.21.0->azure-core>=1.30.0->azure-ai-projects) (3.3.2)\n",
      "Requirement already satisfied: idna<4,>=2.5 in c:\\users\\pranabp\\appdata\\local\\packages\\pythonsoftwarefoundation.python.3.12_qbz5n2kfra8p0\\localcache\\local-packages\\python312\\site-packages (from requests>=2.21.0->azure-core>=1.30.0->azure-ai-projects) (3.6)\n",
      "Requirement already satisfied: urllib3<3,>=1.21.1 in c:\\users\\pranabp\\appdata\\local\\packages\\pythonsoftwarefoundation.python.3.12_qbz5n2kfra8p0\\localcache\\local-packages\\python312\\site-packages (from requests>=2.21.0->azure-core>=1.30.0->azure-ai-projects) (2.2.1)\n",
      "Requirement already satisfied: certifi>=2017.4.17 in c:\\users\\pranabp\\appdata\\local\\packages\\pythonsoftwarefoundation.python.3.12_qbz5n2kfra8p0\\localcache\\local-packages\\python312\\site-packages (from requests>=2.21.0->azure-core>=1.30.0->azure-ai-projects) (2024.2.2)\n"
     ]
    },
    {
     "name": "stderr",
     "output_type": "stream",
     "text": [
      "\n",
      "[notice] A new release of pip is available: 24.3.1 -> 25.0.1\n",
      "[notice] To update, run: C:\\Users\\pranabp\\AppData\\Local\\Microsoft\\WindowsApps\\PythonSoftwareFoundation.Python.3.12_qbz5n2kfra8p0\\python.exe -m pip install --upgrade pip\n"
     ]
    },
    {
     "name": "stdout",
     "output_type": "stream",
     "text": [
      "Defaulting to user installation because normal site-packages is not writeable\n",
      "Requirement already satisfied: azure-identity in c:\\users\\pranabp\\appdata\\local\\packages\\pythonsoftwarefoundation.python.3.12_qbz5n2kfra8p0\\localcache\\local-packages\\python312\\site-packages (1.21.0)\n",
      "Requirement already satisfied: azure-core>=1.31.0 in c:\\users\\pranabp\\appdata\\local\\packages\\pythonsoftwarefoundation.python.3.12_qbz5n2kfra8p0\\localcache\\local-packages\\python312\\site-packages (from azure-identity) (1.32.0)\n",
      "Requirement already satisfied: cryptography>=2.5 in c:\\users\\pranabp\\appdata\\local\\packages\\pythonsoftwarefoundation.python.3.12_qbz5n2kfra8p0\\localcache\\local-packages\\python312\\site-packages (from azure-identity) (44.0.2)\n",
      "Requirement already satisfied: msal>=1.30.0 in c:\\users\\pranabp\\appdata\\local\\packages\\pythonsoftwarefoundation.python.3.12_qbz5n2kfra8p0\\localcache\\local-packages\\python312\\site-packages (from azure-identity) (1.32.0)\n",
      "Requirement already satisfied: msal-extensions>=1.2.0 in c:\\users\\pranabp\\appdata\\local\\packages\\pythonsoftwarefoundation.python.3.12_qbz5n2kfra8p0\\localcache\\local-packages\\python312\\site-packages (from azure-identity) (1.3.1)\n",
      "Requirement already satisfied: typing-extensions>=4.0.0 in c:\\users\\pranabp\\appdata\\local\\packages\\pythonsoftwarefoundation.python.3.12_qbz5n2kfra8p0\\localcache\\local-packages\\python312\\site-packages (from azure-identity) (4.13.0)\n",
      "Requirement already satisfied: requests>=2.21.0 in c:\\users\\pranabp\\appdata\\local\\packages\\pythonsoftwarefoundation.python.3.12_qbz5n2kfra8p0\\localcache\\local-packages\\python312\\site-packages (from azure-core>=1.31.0->azure-identity) (2.31.0)\n",
      "Requirement already satisfied: six>=1.11.0 in c:\\users\\pranabp\\appdata\\local\\packages\\pythonsoftwarefoundation.python.3.12_qbz5n2kfra8p0\\localcache\\local-packages\\python312\\site-packages (from azure-core>=1.31.0->azure-identity) (1.16.0)\n",
      "Requirement already satisfied: cffi>=1.12 in c:\\users\\pranabp\\appdata\\local\\packages\\pythonsoftwarefoundation.python.3.12_qbz5n2kfra8p0\\localcache\\local-packages\\python312\\site-packages (from cryptography>=2.5->azure-identity) (1.17.1)\n",
      "Requirement already satisfied: PyJWT<3,>=1.0.0 in c:\\users\\pranabp\\appdata\\local\\packages\\pythonsoftwarefoundation.python.3.12_qbz5n2kfra8p0\\localcache\\local-packages\\python312\\site-packages (from PyJWT[crypto]<3,>=1.0.0->msal>=1.30.0->azure-identity) (2.10.1)\n",
      "Requirement already satisfied: pycparser in c:\\users\\pranabp\\appdata\\local\\packages\\pythonsoftwarefoundation.python.3.12_qbz5n2kfra8p0\\localcache\\local-packages\\python312\\site-packages (from cffi>=1.12->cryptography>=2.5->azure-identity) (2.22)\n",
      "Requirement already satisfied: charset-normalizer<4,>=2 in c:\\users\\pranabp\\appdata\\local\\packages\\pythonsoftwarefoundation.python.3.12_qbz5n2kfra8p0\\localcache\\local-packages\\python312\\site-packages (from requests>=2.21.0->azure-core>=1.31.0->azure-identity) (3.3.2)\n",
      "Requirement already satisfied: idna<4,>=2.5 in c:\\users\\pranabp\\appdata\\local\\packages\\pythonsoftwarefoundation.python.3.12_qbz5n2kfra8p0\\localcache\\local-packages\\python312\\site-packages (from requests>=2.21.0->azure-core>=1.31.0->azure-identity) (3.6)\n",
      "Requirement already satisfied: urllib3<3,>=1.21.1 in c:\\users\\pranabp\\appdata\\local\\packages\\pythonsoftwarefoundation.python.3.12_qbz5n2kfra8p0\\localcache\\local-packages\\python312\\site-packages (from requests>=2.21.0->azure-core>=1.31.0->azure-identity) (2.2.1)\n",
      "Requirement already satisfied: certifi>=2017.4.17 in c:\\users\\pranabp\\appdata\\local\\packages\\pythonsoftwarefoundation.python.3.12_qbz5n2kfra8p0\\localcache\\local-packages\\python312\\site-packages (from requests>=2.21.0->azure-core>=1.31.0->azure-identity) (2024.2.2)\n"
     ]
    },
    {
     "name": "stderr",
     "output_type": "stream",
     "text": [
      "\n",
      "[notice] A new release of pip is available: 24.3.1 -> 25.0.1\n",
      "[notice] To update, run: C:\\Users\\pranabp\\AppData\\Local\\Microsoft\\WindowsApps\\PythonSoftwareFoundation.Python.3.12_qbz5n2kfra8p0\\python.exe -m pip install --upgrade pip\n"
     ]
    }
   ],
   "source": [
    "! pip install \"autogen-ext[openai]\"\n",
    "! pip install autogen-agentchat\n",
    "! pip install azure-ai-projects \n",
    "! pip install azure-identity"
   ]
  },
  {
   "cell_type": "code",
   "execution_count": 2,
   "metadata": {},
   "outputs": [],
   "source": [
    "from autogen_agentchat.agents import AssistantAgent\n",
    "from autogen_agentchat.messages import TextMessage\n",
    "from autogen_core import CancellationToken\n",
    "from autogen_ext.models.openai import AzureOpenAIChatCompletionClient"
   ]
  },
  {
   "cell_type": "code",
   "execution_count": 3,
   "metadata": {},
   "outputs": [],
   "source": [
    "\n",
    "from azure.identity import DefaultAzureCredential, get_bearer_token_provider"
   ]
  },
  {
   "cell_type": "code",
   "execution_count": 4,
   "metadata": {},
   "outputs": [],
   "source": [
    "from azure.ai.projects import AIProjectClient\n",
    "from azure.ai.projects.models import BingGroundingTool"
   ]
  },
  {
   "cell_type": "code",
   "execution_count": 5,
   "metadata": {},
   "outputs": [],
   "source": [
    "token_provider = get_bearer_token_provider(DefaultAzureCredential(), \"https://cognitiveservices.azure.com/.default\")"
   ]
  },
  {
   "cell_type": "code",
   "execution_count": null,
   "metadata": {},
   "outputs": [],
   "source": [
    "az_model_client = AzureOpenAIChatCompletionClient(\n",
    "    azure_deployment=\"gpt-4\",\n",
    "    api_version=\"2024-12-01-preview\",\n",
    "    model = \"gpt-4\",\n",
    "    azure_endpoint=\"Your Azure OpenAI Service endpoint from Azure AI Foundry\",\n",
    "    # azure_ad_token_provider=token_provider,  # Optional if you choose key-based authentication.\n",
    "    api_key=\"Your API Key from Azure AI Foundry\", # For key-based authentication.\n",
    ")"
   ]
  },
  {
   "cell_type": "code",
   "execution_count": null,
   "metadata": {},
   "outputs": [],
   "source": [
    "project_client = AIProjectClient.from_connection_string(\n",
    "    credential=DefaultAzureCredential(),\n",
    "    conn_str='Your Project connection string from Azure Foundry here',\n",
    ")"
   ]
  },
  {
   "cell_type": "code",
   "execution_count": null,
   "metadata": {},
   "outputs": [],
   "source": [
    "bing_connection = project_client.connections.get(\n",
    "    connection_name='Grounding with Bing Search connection name from Azure Foundry here'\n",
    ")\n",
    "\n",
    "conn_id = bing_connection.id"
   ]
  },
  {
   "cell_type": "code",
   "execution_count": 9,
   "metadata": {},
   "outputs": [],
   "source": [
    "async def web_ai_agent(query: str) -> str:\n",
    "    print(\"This is Bing for Azure AI Agent Service .......\")\n",
    "    bing = BingGroundingTool(connection_id=conn_id)\n",
    "    with project_client:\n",
    "        agent = project_client.agents.create_agent(\n",
    "            model=\"gpt-4\",\n",
    "            name=\"my-assistant\",\n",
    "            instructions=\"\"\"        \n",
    "                You are a web search agent.\n",
    "                Your only tool is search_tool - use it to find information.\n",
    "                You make only one search call at a time.\n",
    "                Once you have the results, you never do calculations based on them.\n",
    "            \"\"\",\n",
    "            tools=bing.definitions,\n",
    "            headers={\"x-ms-enable-preview\": \"true\"}\n",
    "        )\n",
    "        print(f\"Created agent, ID: {agent.id}\")\n",
    "\n",
    "        # Create thread for communication\n",
    "        thread = project_client.agents.create_thread()\n",
    "        print(f\"Created thread, ID: {thread.id}\")\n",
    "\n",
    "        # Create message to thread\n",
    "        message = project_client.agents.create_message(\n",
    "            thread_id=thread.id,\n",
    "            role=\"user\",\n",
    "            content=query,\n",
    "        )\n",
    "        print(f\"SMS: {message}\")\n",
    "        # Create and process agent run in thread with tools\n",
    "        run = project_client.agents.create_and_process_run(thread_id=thread.id, agent_id=agent.id)\n",
    "        print(f\"Run finished with status: {run.status}\")\n",
    "\n",
    "        if run.status == \"failed\":\n",
    "            print(f\"Run failed: {run.last_error}\")\n",
    "\n",
    "        # Delete the assistant when done\n",
    "        # project_client.agents.delete_agent(agent.id)\n",
    "        # print(\"Deleted agent\")\n",
    "\n",
    "        # Fetch and log all messages\n",
    "        messages = project_client.agents.list_messages(thread_id=thread.id)\n",
    "        print(\"Messages:\"+ messages[\"data\"][0][\"content\"][0][\"text\"][\"value\"])\n",
    "    return messages[\"data\"][0][\"content\"][0][\"text\"][\"value\"]\n",
    "\n"
   ]
  },
  {
   "cell_type": "code",
   "execution_count": 10,
   "metadata": {},
   "outputs": [],
   "source": [
    "bing_search_agent = AssistantAgent(\n",
    "    name=\"assistant\",\n",
    "    model_client=az_model_client,\n",
    "    tools=[web_ai_agent],\n",
    "    system_message=\"Use tools to solve tasks.\",\n",
    ")"
   ]
  },
  {
   "cell_type": "code",
   "execution_count": 11,
   "metadata": {},
   "outputs": [],
   "source": [
    "bing = BingGroundingTool(connection_id=conn_id)"
   ]
  },
  {
   "cell_type": "code",
   "execution_count": 12,
   "metadata": {},
   "outputs": [],
   "source": [
    "async def assistant_run() -> None:\n",
    "    response = await bing_search_agent.on_messages(\n",
    "            [TextMessage(content=\"What is Azure OpenAI?\", source=\"user\")],\n",
    "            cancellation_token=CancellationToken(),\n",
    "    )\n",
    "#     print(response.inner_messages)\n",
    "    print(response.chat_message)"
   ]
  },
  {
   "cell_type": "code",
   "execution_count": 13,
   "metadata": {},
   "outputs": [
    {
     "name": "stderr",
     "output_type": "stream",
     "text": [
      "C:\\Users\\pranabp\\AppData\\Local\\Packages\\PythonSoftwareFoundation.Python.3.12_qbz5n2kfra8p0\\LocalCache\\local-packages\\Python312\\site-packages\\autogen_agentchat\\agents\\_assistant_agent.py:870: UserWarning: Resolved model mismatch: gpt-4-0613 != gpt-4-turbo-2024-04-09. Model mapping in autogen_ext.models.openai may be incorrect. Set the model to gpt-4-turbo-2024-04-09 to enhance token/cost estimation and suppress this warning.\n",
      "  model_result = await model_client.create(\n"
     ]
    },
    {
     "name": "stdout",
     "output_type": "stream",
     "text": [
      "This is Bing for Azure AI Agent Service .......\n",
      "Created agent, ID: asst_Nv4mzuIFRfnbW2Tpleco471m\n",
      "Created thread, ID: thread_ajpImjpFoQbI1B49zcbvlMIi\n",
      "SMS: {'id': 'msg_dlofPukTmLabXiJbv6q12glP', 'object': 'thread.message', 'created_at': 1743632548, 'assistant_id': None, 'thread_id': 'thread_ajpImjpFoQbI1B49zcbvlMIi', 'run_id': None, 'role': 'user', 'content': [{'type': 'text', 'text': {'value': 'What is Azure OpenAI?', 'annotations': []}}], 'attachments': [], 'metadata': {}}\n",
      "Run finished with status: RunStatus.COMPLETED\n",
      "Messages:Azure OpenAI is a collaboration between Microsoft and OpenAI that provides enterprise users with access to OpenAI’s advanced artificial intelligence models, including the notable GPT (Generative Pre-trained Transformer) and DALL-E models, through Microsoft's Azure cloud services. This partnership allows businesses and organizations to integrate and deploy AI technologies such as natural language processing, text generation, and image generation within their operations while leveraging Azure's robust cloud infrastructure for scalability, security, and compliance.\n",
      "\n",
      "Azure OpenAI helps users create more natural and efficient user interfaces, generate human-like text for various applications, automate content creation, and enhance data analysis capabilities. It combines OpenAI's cutting-edge AI models with the extensive cloud computing capabilities and enterprise-oriented services of Microsoft Azure, such as privacy, security, and compliance offerings, that are crucial for large-scale business applications.\n",
      "source='assistant' models_usage=None metadata={} content=\"Azure OpenAI is a collaboration between Microsoft and OpenAI that provides enterprise users with access to OpenAI’s advanced artificial intelligence models, including the notable GPT (Generative Pre-trained Transformer) and DALL-E models, through Microsoft's Azure cloud services. This partnership allows businesses and organizations to integrate and deploy AI technologies such as natural language processing, text generation, and image generation within their operations while leveraging Azure's robust cloud infrastructure for scalability, security, and compliance.\\n\\nAzure OpenAI helps users create more natural and efficient user interfaces, generate human-like text for various applications, automate content creation, and enhance data analysis capabilities. It combines OpenAI's cutting-edge AI models with the extensive cloud computing capabilities and enterprise-oriented services of Microsoft Azure, such as privacy, security, and compliance offerings, that are crucial for large-scale business applications.\" type='ToolCallSummaryMessage'\n"
     ]
    }
   ],
   "source": [
    "await assistant_run()"
   ]
  },
  {
   "cell_type": "code",
   "execution_count": null,
   "metadata": {},
   "outputs": [],
   "source": []
  }
 ],
 "metadata": {
  "kernelspec": {
   "display_name": "Python 3",
   "language": "python",
   "name": "python3"
  },
  "language_info": {
   "codemirror_mode": {
    "name": "ipython",
    "version": 3
   },
   "file_extension": ".py",
   "mimetype": "text/x-python",
   "name": "python",
   "nbconvert_exporter": "python",
   "pygments_lexer": "ipython3",
   "version": "3.12.9"
  }
 },
 "nbformat": 4,
 "nbformat_minor": 2
}
