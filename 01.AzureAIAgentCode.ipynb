{
 "cells": [
  {
   "cell_type": "code",
   "execution_count": 1,
   "metadata": {},
   "outputs": [
    {
     "name": "stdout",
     "output_type": "stream",
     "text": [
      "Defaulting to user installation because normal site-packages is not writeable\n",
      "Requirement already satisfied: autogen-ext[openai] in c:\\users\\pranabp\\appdata\\local\\packages\\pythonsoftwarefoundation.python.3.12_qbz5n2kfra8p0\\localcache\\local-packages\\python312\\site-packages (0.4.9.3)\n",
      "Requirement already satisfied: autogen-core==0.4.9.3 in c:\\users\\pranabp\\appdata\\local\\packages\\pythonsoftwarefoundation.python.3.12_qbz5n2kfra8p0\\localcache\\local-packages\\python312\\site-packages (from autogen-ext[openai]) (0.4.9.3)\n",
      "Requirement already satisfied: aiofiles in c:\\users\\pranabp\\appdata\\local\\packages\\pythonsoftwarefoundation.python.3.12_qbz5n2kfra8p0\\localcache\\local-packages\\python312\\site-packages (from autogen-ext[openai]) (24.1.0)\n",
      "Requirement already satisfied: openai>=1.52.2 in c:\\users\\pranabp\\appdata\\local\\packages\\pythonsoftwarefoundation.python.3.12_qbz5n2kfra8p0\\localcache\\local-packages\\python312\\site-packages (from autogen-ext[openai]) (1.70.0)\n",
      "Requirement already satisfied: tiktoken>=0.8.0 in c:\\users\\pranabp\\appdata\\local\\packages\\pythonsoftwarefoundation.python.3.12_qbz5n2kfra8p0\\localcache\\local-packages\\python312\\site-packages (from autogen-ext[openai]) (0.9.0)\n",
      "Requirement already satisfied: jsonref~=1.1.0 in c:\\users\\pranabp\\appdata\\local\\packages\\pythonsoftwarefoundation.python.3.12_qbz5n2kfra8p0\\localcache\\local-packages\\python312\\site-packages (from autogen-core==0.4.9.3->autogen-ext[openai]) (1.1.0)\n",
      "Requirement already satisfied: opentelemetry-api>=1.27.0 in c:\\users\\pranabp\\appdata\\local\\packages\\pythonsoftwarefoundation.python.3.12_qbz5n2kfra8p0\\localcache\\local-packages\\python312\\site-packages (from autogen-core==0.4.9.3->autogen-ext[openai]) (1.31.1)\n",
      "Requirement already satisfied: pillow>=11.0.0 in c:\\users\\pranabp\\appdata\\local\\packages\\pythonsoftwarefoundation.python.3.12_qbz5n2kfra8p0\\localcache\\local-packages\\python312\\site-packages (from autogen-core==0.4.9.3->autogen-ext[openai]) (11.1.0)\n",
      "Requirement already satisfied: protobuf~=5.29.3 in c:\\users\\pranabp\\appdata\\local\\packages\\pythonsoftwarefoundation.python.3.12_qbz5n2kfra8p0\\localcache\\local-packages\\python312\\site-packages (from autogen-core==0.4.9.3->autogen-ext[openai]) (5.29.4)\n",
      "Requirement already satisfied: pydantic<3.0.0,>=2.10.0 in c:\\users\\pranabp\\appdata\\local\\packages\\pythonsoftwarefoundation.python.3.12_qbz5n2kfra8p0\\localcache\\local-packages\\python312\\site-packages (from autogen-core==0.4.9.3->autogen-ext[openai]) (2.11.1)\n",
      "Requirement already satisfied: typing-extensions>=4.0.0 in c:\\users\\pranabp\\appdata\\local\\packages\\pythonsoftwarefoundation.python.3.12_qbz5n2kfra8p0\\localcache\\local-packages\\python312\\site-packages (from autogen-core==0.4.9.3->autogen-ext[openai]) (4.13.0)\n",
      "Requirement already satisfied: anyio<5,>=3.5.0 in c:\\users\\pranabp\\appdata\\local\\packages\\pythonsoftwarefoundation.python.3.12_qbz5n2kfra8p0\\localcache\\local-packages\\python312\\site-packages (from openai>=1.52.2->autogen-ext[openai]) (4.3.0)\n",
      "Requirement already satisfied: distro<2,>=1.7.0 in c:\\users\\pranabp\\appdata\\local\\packages\\pythonsoftwarefoundation.python.3.12_qbz5n2kfra8p0\\localcache\\local-packages\\python312\\site-packages (from openai>=1.52.2->autogen-ext[openai]) (1.9.0)\n",
      "Requirement already satisfied: httpx<1,>=0.23.0 in c:\\users\\pranabp\\appdata\\local\\packages\\pythonsoftwarefoundation.python.3.12_qbz5n2kfra8p0\\localcache\\local-packages\\python312\\site-packages (from openai>=1.52.2->autogen-ext[openai]) (0.27.0)\n",
      "Requirement already satisfied: jiter<1,>=0.4.0 in c:\\users\\pranabp\\appdata\\local\\packages\\pythonsoftwarefoundation.python.3.12_qbz5n2kfra8p0\\localcache\\local-packages\\python312\\site-packages (from openai>=1.52.2->autogen-ext[openai]) (0.9.0)\n",
      "Requirement already satisfied: sniffio in c:\\users\\pranabp\\appdata\\local\\packages\\pythonsoftwarefoundation.python.3.12_qbz5n2kfra8p0\\localcache\\local-packages\\python312\\site-packages (from openai>=1.52.2->autogen-ext[openai]) (1.3.1)\n",
      "Requirement already satisfied: tqdm>4 in c:\\users\\pranabp\\appdata\\local\\packages\\pythonsoftwarefoundation.python.3.12_qbz5n2kfra8p0\\localcache\\local-packages\\python312\\site-packages (from openai>=1.52.2->autogen-ext[openai]) (4.66.2)\n",
      "Requirement already satisfied: regex>=2022.1.18 in c:\\users\\pranabp\\appdata\\local\\packages\\pythonsoftwarefoundation.python.3.12_qbz5n2kfra8p0\\localcache\\local-packages\\python312\\site-packages (from tiktoken>=0.8.0->autogen-ext[openai]) (2023.12.25)\n",
      "Requirement already satisfied: requests>=2.26.0 in c:\\users\\pranabp\\appdata\\local\\packages\\pythonsoftwarefoundation.python.3.12_qbz5n2kfra8p0\\localcache\\local-packages\\python312\\site-packages (from tiktoken>=0.8.0->autogen-ext[openai]) (2.31.0)\n",
      "Requirement already satisfied: idna>=2.8 in c:\\users\\pranabp\\appdata\\local\\packages\\pythonsoftwarefoundation.python.3.12_qbz5n2kfra8p0\\localcache\\local-packages\\python312\\site-packages (from anyio<5,>=3.5.0->openai>=1.52.2->autogen-ext[openai]) (3.6)\n",
      "Requirement already satisfied: certifi in c:\\users\\pranabp\\appdata\\local\\packages\\pythonsoftwarefoundation.python.3.12_qbz5n2kfra8p0\\localcache\\local-packages\\python312\\site-packages (from httpx<1,>=0.23.0->openai>=1.52.2->autogen-ext[openai]) (2024.2.2)\n",
      "Requirement already satisfied: httpcore==1.* in c:\\users\\pranabp\\appdata\\local\\packages\\pythonsoftwarefoundation.python.3.12_qbz5n2kfra8p0\\localcache\\local-packages\\python312\\site-packages (from httpx<1,>=0.23.0->openai>=1.52.2->autogen-ext[openai]) (1.0.5)\n",
      "Requirement already satisfied: h11<0.15,>=0.13 in c:\\users\\pranabp\\appdata\\local\\packages\\pythonsoftwarefoundation.python.3.12_qbz5n2kfra8p0\\localcache\\local-packages\\python312\\site-packages (from httpcore==1.*->httpx<1,>=0.23.0->openai>=1.52.2->autogen-ext[openai]) (0.14.0)\n",
      "Requirement already satisfied: deprecated>=1.2.6 in c:\\users\\pranabp\\appdata\\local\\packages\\pythonsoftwarefoundation.python.3.12_qbz5n2kfra8p0\\localcache\\local-packages\\python312\\site-packages (from opentelemetry-api>=1.27.0->autogen-core==0.4.9.3->autogen-ext[openai]) (1.2.18)\n",
      "Requirement already satisfied: importlib-metadata<8.7.0,>=6.0 in c:\\users\\pranabp\\appdata\\local\\packages\\pythonsoftwarefoundation.python.3.12_qbz5n2kfra8p0\\localcache\\local-packages\\python312\\site-packages (from opentelemetry-api>=1.27.0->autogen-core==0.4.9.3->autogen-ext[openai]) (8.6.1)\n",
      "Requirement already satisfied: annotated-types>=0.6.0 in c:\\users\\pranabp\\appdata\\local\\packages\\pythonsoftwarefoundation.python.3.12_qbz5n2kfra8p0\\localcache\\local-packages\\python312\\site-packages (from pydantic<3.0.0,>=2.10.0->autogen-core==0.4.9.3->autogen-ext[openai]) (0.6.0)\n",
      "Requirement already satisfied: pydantic-core==2.33.0 in c:\\users\\pranabp\\appdata\\local\\packages\\pythonsoftwarefoundation.python.3.12_qbz5n2kfra8p0\\localcache\\local-packages\\python312\\site-packages (from pydantic<3.0.0,>=2.10.0->autogen-core==0.4.9.3->autogen-ext[openai]) (2.33.0)\n",
      "Requirement already satisfied: typing-inspection>=0.4.0 in c:\\users\\pranabp\\appdata\\local\\packages\\pythonsoftwarefoundation.python.3.12_qbz5n2kfra8p0\\localcache\\local-packages\\python312\\site-packages (from pydantic<3.0.0,>=2.10.0->autogen-core==0.4.9.3->autogen-ext[openai]) (0.4.0)\n",
      "Requirement already satisfied: charset-normalizer<4,>=2 in c:\\users\\pranabp\\appdata\\local\\packages\\pythonsoftwarefoundation.python.3.12_qbz5n2kfra8p0\\localcache\\local-packages\\python312\\site-packages (from requests>=2.26.0->tiktoken>=0.8.0->autogen-ext[openai]) (3.3.2)\n",
      "Requirement already satisfied: urllib3<3,>=1.21.1 in c:\\users\\pranabp\\appdata\\local\\packages\\pythonsoftwarefoundation.python.3.12_qbz5n2kfra8p0\\localcache\\local-packages\\python312\\site-packages (from requests>=2.26.0->tiktoken>=0.8.0->autogen-ext[openai]) (2.2.1)\n",
      "Requirement already satisfied: colorama in c:\\users\\pranabp\\appdata\\local\\packages\\pythonsoftwarefoundation.python.3.12_qbz5n2kfra8p0\\localcache\\local-packages\\python312\\site-packages (from tqdm>4->openai>=1.52.2->autogen-ext[openai]) (0.4.6)\n",
      "Requirement already satisfied: wrapt<2,>=1.10 in c:\\users\\pranabp\\appdata\\local\\packages\\pythonsoftwarefoundation.python.3.12_qbz5n2kfra8p0\\localcache\\local-packages\\python312\\site-packages (from deprecated>=1.2.6->opentelemetry-api>=1.27.0->autogen-core==0.4.9.3->autogen-ext[openai]) (1.16.0)\n",
      "Requirement already satisfied: zipp>=3.20 in c:\\users\\pranabp\\appdata\\local\\packages\\pythonsoftwarefoundation.python.3.12_qbz5n2kfra8p0\\localcache\\local-packages\\python312\\site-packages (from importlib-metadata<8.7.0,>=6.0->opentelemetry-api>=1.27.0->autogen-core==0.4.9.3->autogen-ext[openai]) (3.21.0)\n"
     ]
    },
    {
     "name": "stderr",
     "output_type": "stream",
     "text": [
      "\n",
      "[notice] A new release of pip is available: 24.3.1 -> 25.0.1\n",
      "[notice] To update, run: C:\\Users\\pranabp\\AppData\\Local\\Microsoft\\WindowsApps\\PythonSoftwareFoundation.Python.3.12_qbz5n2kfra8p0\\python.exe -m pip install --upgrade pip\n"
     ]
    },
    {
     "name": "stdout",
     "output_type": "stream",
     "text": [
      "Defaulting to user installation because normal site-packages is not writeable\n",
      "Requirement already satisfied: autogen-agentchat in c:\\users\\pranabp\\appdata\\local\\packages\\pythonsoftwarefoundation.python.3.12_qbz5n2kfra8p0\\localcache\\local-packages\\python312\\site-packages (0.4.9.3)\n",
      "Requirement already satisfied: autogen-core==0.4.9.3 in c:\\users\\pranabp\\appdata\\local\\packages\\pythonsoftwarefoundation.python.3.12_qbz5n2kfra8p0\\localcache\\local-packages\\python312\\site-packages (from autogen-agentchat) (0.4.9.3)\n",
      "Requirement already satisfied: jsonref~=1.1.0 in c:\\users\\pranabp\\appdata\\local\\packages\\pythonsoftwarefoundation.python.3.12_qbz5n2kfra8p0\\localcache\\local-packages\\python312\\site-packages (from autogen-core==0.4.9.3->autogen-agentchat) (1.1.0)\n",
      "Requirement already satisfied: opentelemetry-api>=1.27.0 in c:\\users\\pranabp\\appdata\\local\\packages\\pythonsoftwarefoundation.python.3.12_qbz5n2kfra8p0\\localcache\\local-packages\\python312\\site-packages (from autogen-core==0.4.9.3->autogen-agentchat) (1.31.1)\n",
      "Requirement already satisfied: pillow>=11.0.0 in c:\\users\\pranabp\\appdata\\local\\packages\\pythonsoftwarefoundation.python.3.12_qbz5n2kfra8p0\\localcache\\local-packages\\python312\\site-packages (from autogen-core==0.4.9.3->autogen-agentchat) (11.1.0)\n",
      "Requirement already satisfied: protobuf~=5.29.3 in c:\\users\\pranabp\\appdata\\local\\packages\\pythonsoftwarefoundation.python.3.12_qbz5n2kfra8p0\\localcache\\local-packages\\python312\\site-packages (from autogen-core==0.4.9.3->autogen-agentchat) (5.29.4)\n",
      "Requirement already satisfied: pydantic<3.0.0,>=2.10.0 in c:\\users\\pranabp\\appdata\\local\\packages\\pythonsoftwarefoundation.python.3.12_qbz5n2kfra8p0\\localcache\\local-packages\\python312\\site-packages (from autogen-core==0.4.9.3->autogen-agentchat) (2.11.1)\n",
      "Requirement already satisfied: typing-extensions>=4.0.0 in c:\\users\\pranabp\\appdata\\local\\packages\\pythonsoftwarefoundation.python.3.12_qbz5n2kfra8p0\\localcache\\local-packages\\python312\\site-packages (from autogen-core==0.4.9.3->autogen-agentchat) (4.13.0)\n",
      "Requirement already satisfied: deprecated>=1.2.6 in c:\\users\\pranabp\\appdata\\local\\packages\\pythonsoftwarefoundation.python.3.12_qbz5n2kfra8p0\\localcache\\local-packages\\python312\\site-packages (from opentelemetry-api>=1.27.0->autogen-core==0.4.9.3->autogen-agentchat) (1.2.18)\n",
      "Requirement already satisfied: importlib-metadata<8.7.0,>=6.0 in c:\\users\\pranabp\\appdata\\local\\packages\\pythonsoftwarefoundation.python.3.12_qbz5n2kfra8p0\\localcache\\local-packages\\python312\\site-packages (from opentelemetry-api>=1.27.0->autogen-core==0.4.9.3->autogen-agentchat) (8.6.1)\n",
      "Requirement already satisfied: annotated-types>=0.6.0 in c:\\users\\pranabp\\appdata\\local\\packages\\pythonsoftwarefoundation.python.3.12_qbz5n2kfra8p0\\localcache\\local-packages\\python312\\site-packages (from pydantic<3.0.0,>=2.10.0->autogen-core==0.4.9.3->autogen-agentchat) (0.6.0)\n",
      "Requirement already satisfied: pydantic-core==2.33.0 in c:\\users\\pranabp\\appdata\\local\\packages\\pythonsoftwarefoundation.python.3.12_qbz5n2kfra8p0\\localcache\\local-packages\\python312\\site-packages (from pydantic<3.0.0,>=2.10.0->autogen-core==0.4.9.3->autogen-agentchat) (2.33.0)\n",
      "Requirement already satisfied: typing-inspection>=0.4.0 in c:\\users\\pranabp\\appdata\\local\\packages\\pythonsoftwarefoundation.python.3.12_qbz5n2kfra8p0\\localcache\\local-packages\\python312\\site-packages (from pydantic<3.0.0,>=2.10.0->autogen-core==0.4.9.3->autogen-agentchat) (0.4.0)\n",
      "Requirement already satisfied: wrapt<2,>=1.10 in c:\\users\\pranabp\\appdata\\local\\packages\\pythonsoftwarefoundation.python.3.12_qbz5n2kfra8p0\\localcache\\local-packages\\python312\\site-packages (from deprecated>=1.2.6->opentelemetry-api>=1.27.0->autogen-core==0.4.9.3->autogen-agentchat) (1.16.0)\n",
      "Requirement already satisfied: zipp>=3.20 in c:\\users\\pranabp\\appdata\\local\\packages\\pythonsoftwarefoundation.python.3.12_qbz5n2kfra8p0\\localcache\\local-packages\\python312\\site-packages (from importlib-metadata<8.7.0,>=6.0->opentelemetry-api>=1.27.0->autogen-core==0.4.9.3->autogen-agentchat) (3.21.0)\n"
     ]
    },
    {
     "name": "stderr",
     "output_type": "stream",
     "text": [
      "\n",
      "[notice] A new release of pip is available: 24.3.1 -> 25.0.1\n",
      "[notice] To update, run: C:\\Users\\pranabp\\AppData\\Local\\Microsoft\\WindowsApps\\PythonSoftwareFoundation.Python.3.12_qbz5n2kfra8p0\\python.exe -m pip install --upgrade pip\n"
     ]
    },
    {
     "name": "stdout",
     "output_type": "stream",
     "text": [
      "Defaulting to user installation because normal site-packages is not writeable\n",
      "Requirement already satisfied: azure-ai-projects in c:\\users\\pranabp\\appdata\\local\\packages\\pythonsoftwarefoundation.python.3.12_qbz5n2kfra8p0\\localcache\\local-packages\\python312\\site-packages (1.0.0b8)\n",
      "Requirement already satisfied: isodate>=0.6.1 in c:\\users\\pranabp\\appdata\\local\\packages\\pythonsoftwarefoundation.python.3.12_qbz5n2kfra8p0\\localcache\\local-packages\\python312\\site-packages (from azure-ai-projects) (0.6.1)\n",
      "Requirement already satisfied: azure-core>=1.30.0 in c:\\users\\pranabp\\appdata\\local\\packages\\pythonsoftwarefoundation.python.3.12_qbz5n2kfra8p0\\localcache\\local-packages\\python312\\site-packages (from azure-ai-projects) (1.32.0)\n",
      "Requirement already satisfied: typing-extensions>=4.12.2 in c:\\users\\pranabp\\appdata\\local\\packages\\pythonsoftwarefoundation.python.3.12_qbz5n2kfra8p0\\localcache\\local-packages\\python312\\site-packages (from azure-ai-projects) (4.13.0)\n",
      "Requirement already satisfied: requests>=2.21.0 in c:\\users\\pranabp\\appdata\\local\\packages\\pythonsoftwarefoundation.python.3.12_qbz5n2kfra8p0\\localcache\\local-packages\\python312\\site-packages (from azure-core>=1.30.0->azure-ai-projects) (2.31.0)\n",
      "Requirement already satisfied: six>=1.11.0 in c:\\users\\pranabp\\appdata\\local\\packages\\pythonsoftwarefoundation.python.3.12_qbz5n2kfra8p0\\localcache\\local-packages\\python312\\site-packages (from azure-core>=1.30.0->azure-ai-projects) (1.16.0)\n",
      "Requirement already satisfied: charset-normalizer<4,>=2 in c:\\users\\pranabp\\appdata\\local\\packages\\pythonsoftwarefoundation.python.3.12_qbz5n2kfra8p0\\localcache\\local-packages\\python312\\site-packages (from requests>=2.21.0->azure-core>=1.30.0->azure-ai-projects) (3.3.2)\n",
      "Requirement already satisfied: idna<4,>=2.5 in c:\\users\\pranabp\\appdata\\local\\packages\\pythonsoftwarefoundation.python.3.12_qbz5n2kfra8p0\\localcache\\local-packages\\python312\\site-packages (from requests>=2.21.0->azure-core>=1.30.0->azure-ai-projects) (3.6)\n",
      "Requirement already satisfied: urllib3<3,>=1.21.1 in c:\\users\\pranabp\\appdata\\local\\packages\\pythonsoftwarefoundation.python.3.12_qbz5n2kfra8p0\\localcache\\local-packages\\python312\\site-packages (from requests>=2.21.0->azure-core>=1.30.0->azure-ai-projects) (2.2.1)\n",
      "Requirement already satisfied: certifi>=2017.4.17 in c:\\users\\pranabp\\appdata\\local\\packages\\pythonsoftwarefoundation.python.3.12_qbz5n2kfra8p0\\localcache\\local-packages\\python312\\site-packages (from requests>=2.21.0->azure-core>=1.30.0->azure-ai-projects) (2024.2.2)\n"
     ]
    },
    {
     "name": "stderr",
     "output_type": "stream",
     "text": [
      "\n",
      "[notice] A new release of pip is available: 24.3.1 -> 25.0.1\n",
      "[notice] To update, run: C:\\Users\\pranabp\\AppData\\Local\\Microsoft\\WindowsApps\\PythonSoftwareFoundation.Python.3.12_qbz5n2kfra8p0\\python.exe -m pip install --upgrade pip\n"
     ]
    },
    {
     "name": "stdout",
     "output_type": "stream",
     "text": [
      "Defaulting to user installation because normal site-packages is not writeable\n",
      "Requirement already satisfied: azure-identity in c:\\users\\pranabp\\appdata\\local\\packages\\pythonsoftwarefoundation.python.3.12_qbz5n2kfra8p0\\localcache\\local-packages\\python312\\site-packages (1.21.0)\n",
      "Requirement already satisfied: azure-core>=1.31.0 in c:\\users\\pranabp\\appdata\\local\\packages\\pythonsoftwarefoundation.python.3.12_qbz5n2kfra8p0\\localcache\\local-packages\\python312\\site-packages (from azure-identity) (1.32.0)\n",
      "Requirement already satisfied: cryptography>=2.5 in c:\\users\\pranabp\\appdata\\local\\packages\\pythonsoftwarefoundation.python.3.12_qbz5n2kfra8p0\\localcache\\local-packages\\python312\\site-packages (from azure-identity) (44.0.2)\n",
      "Requirement already satisfied: msal>=1.30.0 in c:\\users\\pranabp\\appdata\\local\\packages\\pythonsoftwarefoundation.python.3.12_qbz5n2kfra8p0\\localcache\\local-packages\\python312\\site-packages (from azure-identity) (1.32.0)\n",
      "Requirement already satisfied: msal-extensions>=1.2.0 in c:\\users\\pranabp\\appdata\\local\\packages\\pythonsoftwarefoundation.python.3.12_qbz5n2kfra8p0\\localcache\\local-packages\\python312\\site-packages (from azure-identity) (1.3.1)\n",
      "Requirement already satisfied: typing-extensions>=4.0.0 in c:\\users\\pranabp\\appdata\\local\\packages\\pythonsoftwarefoundation.python.3.12_qbz5n2kfra8p0\\localcache\\local-packages\\python312\\site-packages (from azure-identity) (4.13.0)\n",
      "Requirement already satisfied: requests>=2.21.0 in c:\\users\\pranabp\\appdata\\local\\packages\\pythonsoftwarefoundation.python.3.12_qbz5n2kfra8p0\\localcache\\local-packages\\python312\\site-packages (from azure-core>=1.31.0->azure-identity) (2.31.0)\n",
      "Requirement already satisfied: six>=1.11.0 in c:\\users\\pranabp\\appdata\\local\\packages\\pythonsoftwarefoundation.python.3.12_qbz5n2kfra8p0\\localcache\\local-packages\\python312\\site-packages (from azure-core>=1.31.0->azure-identity) (1.16.0)\n",
      "Requirement already satisfied: cffi>=1.12 in c:\\users\\pranabp\\appdata\\local\\packages\\pythonsoftwarefoundation.python.3.12_qbz5n2kfra8p0\\localcache\\local-packages\\python312\\site-packages (from cryptography>=2.5->azure-identity) (1.17.1)\n",
      "Requirement already satisfied: PyJWT<3,>=1.0.0 in c:\\users\\pranabp\\appdata\\local\\packages\\pythonsoftwarefoundation.python.3.12_qbz5n2kfra8p0\\localcache\\local-packages\\python312\\site-packages (from PyJWT[crypto]<3,>=1.0.0->msal>=1.30.0->azure-identity) (2.10.1)\n",
      "Requirement already satisfied: pycparser in c:\\users\\pranabp\\appdata\\local\\packages\\pythonsoftwarefoundation.python.3.12_qbz5n2kfra8p0\\localcache\\local-packages\\python312\\site-packages (from cffi>=1.12->cryptography>=2.5->azure-identity) (2.22)\n",
      "Requirement already satisfied: charset-normalizer<4,>=2 in c:\\users\\pranabp\\appdata\\local\\packages\\pythonsoftwarefoundation.python.3.12_qbz5n2kfra8p0\\localcache\\local-packages\\python312\\site-packages (from requests>=2.21.0->azure-core>=1.31.0->azure-identity) (3.3.2)\n",
      "Requirement already satisfied: idna<4,>=2.5 in c:\\users\\pranabp\\appdata\\local\\packages\\pythonsoftwarefoundation.python.3.12_qbz5n2kfra8p0\\localcache\\local-packages\\python312\\site-packages (from requests>=2.21.0->azure-core>=1.31.0->azure-identity) (3.6)\n",
      "Requirement already satisfied: urllib3<3,>=1.21.1 in c:\\users\\pranabp\\appdata\\local\\packages\\pythonsoftwarefoundation.python.3.12_qbz5n2kfra8p0\\localcache\\local-packages\\python312\\site-packages (from requests>=2.21.0->azure-core>=1.31.0->azure-identity) (2.2.1)\n",
      "Requirement already satisfied: certifi>=2017.4.17 in c:\\users\\pranabp\\appdata\\local\\packages\\pythonsoftwarefoundation.python.3.12_qbz5n2kfra8p0\\localcache\\local-packages\\python312\\site-packages (from requests>=2.21.0->azure-core>=1.31.0->azure-identity) (2024.2.2)\n"
     ]
    },
    {
     "name": "stderr",
     "output_type": "stream",
     "text": [
      "\n",
      "[notice] A new release of pip is available: 24.3.1 -> 25.0.1\n",
      "[notice] To update, run: C:\\Users\\pranabp\\AppData\\Local\\Microsoft\\WindowsApps\\PythonSoftwareFoundation.Python.3.12_qbz5n2kfra8p0\\python.exe -m pip install --upgrade pip\n"
     ]
    }
   ],
   "source": [
    "! pip install \"autogen-ext[openai]\"\n",
    "! pip install autogen-agentchat\n",
    "! pip install azure-ai-projects \n",
    "! pip install azure-identity"
   ]
  },
  {
   "cell_type": "code",
   "execution_count": 2,
   "metadata": {},
   "outputs": [],
   "source": [
    "from azure.ai.projects import AIProjectClient\n",
    "from azure.ai.projects.models import CodeInterpreterTool\n",
    "from azure.identity import DefaultAzureCredential\n",
    "import os"
   ]
  },
  {
   "cell_type": "code",
   "execution_count": null,
   "metadata": {},
   "outputs": [],
   "source": [
    "project_client = AIProjectClient.from_connection_string(\n",
    "    credential=DefaultAzureCredential(),\n",
    "    conn_str='Your Project connection string from Azure Foundry here',\n",
    ")"
   ]
  },
  {
   "cell_type": "code",
   "execution_count": null,
   "metadata": {},
   "outputs": [
    {
     "name": "stdout",
     "output_type": "stream",
     "text": [
      "Run finished with status: RunStatus.COMPLETED\n",
      "Last Message: The file has been created successfully. You can download it using the link below:\n",
      "\n",
      "[Download blog-250402221723.md](sandbox:/mnt/data/blog-250402221723.md)\n"
     ]
    }
   ],
   "source": [
    "\n",
    "with project_client:\n",
    "\n",
    "    code_interpreter = CodeInterpreterTool()\n",
    "    \n",
    "    agent = project_client.agents.create_agent(\n",
    "        model=\"gpt-4o-mini\",\n",
    "        name=\"my-agent\",\n",
    "        instructions=\"You are helpful agent\",\n",
    "        tools=code_interpreter.definitions,\n",
    "        # tool_resources=code_interpreter.resources,\n",
    "    )\n",
    "\n",
    "    thread = project_client.agents.create_thread()\n",
    "\n",
    "    message = project_client.agents.create_message(\n",
    "        thread_id=thread.id,\n",
    "        role=\"user\",\n",
    "        content=\"\"\"\n",
    "        \n",
    "        You are my Python programming assistant. Generate code and execute it according to the following requirements\n",
    "\n",
    "        1. Save \"this is blog\" to blog-{YYMMDDHHMMSS}.md\n",
    "\n",
    "        2. give me the download this file link\n",
    "            \"\"\",\n",
    "    )\n",
    "    # create and execute a run\n",
    "    run = project_client.agents.create_and_process_run(thread_id=thread.id, agent_id=agent.id)\n",
    "    print(f\"Run finished with status: {run.status}\")\n",
    "\n",
    "    if run.status == \"failed\":\n",
    "        # Check if you got \"Rate limit is exceeded.\", then you want to get more quota\n",
    "        print(f\"Run failed: {run.last_error}\")\n",
    "\n",
    "    # # delete the original file from the agent to free up space (note: this does not delete your version of the file)\n",
    "    # project_client.agents.delete_file(file.id)\n",
    "    # print(\"Deleted file\")\n",
    "\n",
    "    # print the messages from the agent\n",
    "    messages = project_client.agents.list_messages(thread_id=thread.id)\n",
    "\n",
    "\n",
    "    # get the most recent message from the assistant\n",
    "    last_msg = messages.get_last_text_message_by_role(\"assistant\")\n",
    "    if last_msg:\n",
    "        print(f\"Last Message: {last_msg.text.value}\")\n",
    "\n",
    "    # print(f\"File: {messages.file_path_annotations}\")\n",
    "\n",
    "\n",
    "    for file_path_annotation in messages.file_path_annotations:\n",
    "\n",
    "        file_name = os.path.basename(file_path_annotation.text)\n",
    "\n",
    "        project_client.agents.save_file(file_id=file_path_annotation.file_path.file_id, file_name=file_name,target_dir=\"./blog\")"
   ]
  },
  {
   "cell_type": "code",
   "execution_count": null,
   "metadata": {},
   "outputs": [],
   "source": []
  },
  {
   "cell_type": "code",
   "execution_count": null,
   "metadata": {},
   "outputs": [],
   "source": []
  }
 ],
 "metadata": {
  "kernelspec": {
   "display_name": "Python 3",
   "language": "python",
   "name": "python3"
  },
  "language_info": {
   "codemirror_mode": {
    "name": "ipython",
    "version": 3
   },
   "file_extension": ".py",
   "mimetype": "text/x-python",
   "name": "python",
   "nbconvert_exporter": "python",
   "pygments_lexer": "ipython3",
   "version": "3.12.9"
  }
 },
 "nbformat": 4,
 "nbformat_minor": 2
}
